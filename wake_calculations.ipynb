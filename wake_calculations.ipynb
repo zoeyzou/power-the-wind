{
 "cells": [
  {
   "cell_type": "code",
   "execution_count": 1,
   "metadata": {},
   "outputs": [],
   "source": [
    "import pandas as pd\n",
    "import numpy as np\n",
    "import matplotlib.pyplot as plt\n",
    "from scipy.interpolate import CubicSpline\n",
    "from copy import deepcopy\n",
    "import seaborn as sns"
   ]
  },
  {
   "cell_type": "code",
   "execution_count": 2,
   "metadata": {},
   "outputs": [],
   "source": [
    "class GridSquare:\n",
    "    def __init__(self, can_place, cost, free_wind_speed):\n",
    "        self.can_place = can_place\n",
    "        self.has_turbine = False\n",
    "        self.cost = cost\n",
    "        self.power = 0\n",
    "        self.wind_speed = free_wind_speed\n",
    "    \n",
    "    def __str__(self):\n",
    "        return f'Has turbine: {self.has_turbine}; can_place: {self.can_place}; cost: {self.cost}; wind_speed: {self.wind_speed}; power: {self.power}'\n",
    "    \n",
    "    def __repr__(self):\n",
    "        return f'Has turbine: {self.has_turbine}; can_place: {self.can_place}; cost: {self.cost}; wind_speed: {self.wind_speed}; power: {self.power}'\n",
    "        \n",
    "    def add_turbine():\n",
    "        self.has_turbine = True\n",
    "        \n",
    "    def remove_turbine():\n",
    "        self.has_turbine = False\n",
    "        \n",
    "    def set_power(power):\n",
    "        self.power = power\n",
    "        \n",
    "    def set_wind_speed(wind_speed):\n",
    "        self.wind_speed = wind_speed\n",
    "    "
   ]
  },
  {
   "cell_type": "code",
   "execution_count": 3,
   "metadata": {},
   "outputs": [],
   "source": [
    "def get_grid_power(grid):\n",
    "    n_rows = len(grid)\n",
    "    n_cols = len(grid[0])\n",
    "    \n",
    "    power_grid = [[] for i in range(n_rows)]\n",
    "    \n",
    "    for i in range(n_rows):\n",
    "        for j in range(n_cols):\n",
    "            power_grid[i].append(grid[i][j].power)\n",
    "    \n",
    "    return power_grid\n",
    "\n",
    "def get_grid_wind_speed(grid):\n",
    "    n_rows = len(grid)\n",
    "    n_cols = len(grid[0])\n",
    "    \n",
    "    wind_speed_grid = [[] for i in range(n_rows)]\n",
    "    \n",
    "    for i in range(n_rows):\n",
    "        for j in range(n_cols):\n",
    "            wind_speed_grid[i].append(grid[i][j].wind_speed)\n",
    "    \n",
    "    return wind_speed_grid\n",
    "\n",
    "def get_grid_cost(grid):\n",
    "    n_rows = len(grid)\n",
    "    n_cols = len(grid[0])\n",
    "    \n",
    "    cost_grid = [[] for i in range(n_rows)]\n",
    "    \n",
    "    for i in range(n_rows):\n",
    "        for j in range(n_cols):\n",
    "            cost_grid[i].append(grid[i][j].cost)\n",
    "    \n",
    "    return cost_grid"
   ]
  },
  {
   "cell_type": "code",
   "execution_count": 4,
   "metadata": {},
   "outputs": [],
   "source": [
    "def get_original_grid(free_wind_speed):\n",
    "\n",
    "    np.random.seed(1)\n",
    "    turbine_cost = 500\n",
    "    initial_budget = 5000\n",
    "    n_rows = 5\n",
    "    n_cols = 5\n",
    "\n",
    "    grid_orig = [[] for i in range(n_cols)]\n",
    "    grid_cost = np.random.normal(100, 20, [5,5])\n",
    "    threshold = 0.2 \n",
    "\n",
    "    for i in range(n_rows):\n",
    "        for j in range(n_cols):\n",
    "\n",
    "            can_place = True if np.random.uniform(0,1) > threshold else False\n",
    "            square =  GridSquare(can_place, grid_cost[i,j]+turbine_cost, free_wind_speed)\n",
    "            grid_orig[i].append(square)\n",
    "    \n",
    "    return grid_orig\n",
    "\n"
   ]
  },
  {
   "cell_type": "code",
   "execution_count": 5,
   "metadata": {},
   "outputs": [
    {
     "data": {
      "text/html": [
       "<div>\n",
       "<style scoped>\n",
       "    .dataframe tbody tr th:only-of-type {\n",
       "        vertical-align: middle;\n",
       "    }\n",
       "\n",
       "    .dataframe tbody tr th {\n",
       "        vertical-align: top;\n",
       "    }\n",
       "\n",
       "    .dataframe thead th {\n",
       "        text-align: right;\n",
       "    }\n",
       "</style>\n",
       "<table border=\"1\" class=\"dataframe\">\n",
       "  <thead>\n",
       "    <tr style=\"text-align: right;\">\n",
       "      <th></th>\n",
       "      <th>wind speed</th>\n",
       "      <th>Power</th>\n",
       "      <th>Cp</th>\n",
       "      <th>Ct</th>\n",
       "      <th>Unnamed: 4</th>\n",
       "      <th>rotor dimater</th>\n",
       "      <th>136</th>\n",
       "      <th>hub height</th>\n",
       "      <th>132</th>\n",
       "    </tr>\n",
       "  </thead>\n",
       "  <tbody>\n",
       "    <tr>\n",
       "      <th>0</th>\n",
       "      <td>2.5</td>\n",
       "      <td>0.0</td>\n",
       "      <td>0.00</td>\n",
       "      <td>0.000</td>\n",
       "      <td>NaN</td>\n",
       "      <td>NaN</td>\n",
       "      <td>NaN</td>\n",
       "      <td>NaN</td>\n",
       "      <td>NaN</td>\n",
       "    </tr>\n",
       "    <tr>\n",
       "      <th>1</th>\n",
       "      <td>3.0</td>\n",
       "      <td>34.5</td>\n",
       "      <td>0.15</td>\n",
       "      <td>0.750</td>\n",
       "      <td>NaN</td>\n",
       "      <td>NaN</td>\n",
       "      <td>NaN</td>\n",
       "      <td>NaN</td>\n",
       "      <td>NaN</td>\n",
       "    </tr>\n",
       "    <tr>\n",
       "      <th>2</th>\n",
       "      <td>3.5</td>\n",
       "      <td>113.3</td>\n",
       "      <td>0.30</td>\n",
       "      <td>0.797</td>\n",
       "      <td>NaN</td>\n",
       "      <td>NaN</td>\n",
       "      <td>NaN</td>\n",
       "      <td>NaN</td>\n",
       "      <td>NaN</td>\n",
       "    </tr>\n",
       "    <tr>\n",
       "      <th>3</th>\n",
       "      <td>4.0</td>\n",
       "      <td>211.8</td>\n",
       "      <td>0.37</td>\n",
       "      <td>0.807</td>\n",
       "      <td>NaN</td>\n",
       "      <td>NaN</td>\n",
       "      <td>NaN</td>\n",
       "      <td>NaN</td>\n",
       "      <td>NaN</td>\n",
       "    </tr>\n",
       "    <tr>\n",
       "      <th>4</th>\n",
       "      <td>4.5</td>\n",
       "      <td>329.9</td>\n",
       "      <td>0.41</td>\n",
       "      <td>0.807</td>\n",
       "      <td>NaN</td>\n",
       "      <td>NaN</td>\n",
       "      <td>NaN</td>\n",
       "      <td>NaN</td>\n",
       "      <td>NaN</td>\n",
       "    </tr>\n",
       "  </tbody>\n",
       "</table>\n",
       "</div>"
      ],
      "text/plain": [
       "   wind speed  Power    Cp     Ct  Unnamed: 4  rotor dimater  136  \\\n",
       "0         2.5    0.0  0.00  0.000         NaN            NaN  NaN   \n",
       "1         3.0   34.5  0.15  0.750         NaN            NaN  NaN   \n",
       "2         3.5  113.3  0.30  0.797         NaN            NaN  NaN   \n",
       "3         4.0  211.8  0.37  0.807         NaN            NaN  NaN   \n",
       "4         4.5  329.9  0.41  0.807         NaN            NaN  NaN   \n",
       "\n",
       "   hub height   132  \n",
       "0          NaN  NaN  \n",
       "1          NaN  NaN  \n",
       "2          NaN  NaN  \n",
       "3          NaN  NaN  \n",
       "4          NaN  NaN  "
      ]
     },
     "execution_count": 5,
     "metadata": {},
     "output_type": "execute_result"
    }
   ],
   "source": [
    "power_curve_df = pd.read_excel('../WomenHackCPH -data.xlsx', sheet_name='Power Curve', header=1)\n",
    "power_curve_df.head()"
   ]
  },
  {
   "cell_type": "code",
   "execution_count": 6,
   "metadata": {},
   "outputs": [
    {
     "data": {
      "text/plain": [
       "[<matplotlib.lines.Line2D at 0x7fde9be74908>]"
      ]
     },
     "execution_count": 6,
     "metadata": {},
     "output_type": "execute_result"
    },
    {
     "data": {
      "image/png": "[encoded data removed]",
      "text/plain": [
       "<Figure size 432x288 with 1 Axes>"
      ]
     },
     "metadata": {
      "needs_background": "light"
     },
     "output_type": "display_data"
    }
   ],
   "source": [
    "thrust_interp = CubicSpline(power_curve_df['wind speed'].values, power_curve_df['Ct'].values, bc_type='natural')\n",
    "\n",
    "\n",
    "fig, ax = plt.subplots()\n",
    "plt.plot(power_curve_df['wind speed'].values, power_curve_df['Ct'].values, color='blue')\n",
    "plt.plot(power_curve_df['wind speed'].values, thrust_interp(power_curve_df['wind speed'].values), color='red',linestyle='--')\n"
   ]
  },
  {
   "cell_type": "code",
   "execution_count": 7,
   "metadata": {},
   "outputs": [
    {
     "data": {
      "text/plain": [
       "[<matplotlib.lines.Line2D at 0x7fde9b79e908>]"
      ]
     },
     "execution_count": 7,
     "metadata": {},
     "output_type": "execute_result"
    },
    {
     "data": {
      "image/png": "[encoded data removed]",
      "text/plain": [
       "<Figure size 432x288 with 1 Axes>"
      ]
     },
     "metadata": {
      "needs_background": "light"
     },
     "output_type": "display_data"
    }
   ],
   "source": [
    "power_interp = CubicSpline(power_curve_df['wind speed'].values, power_curve_df['Power'].values, bc_type='natural')\n",
    "\n",
    "\n",
    "fig, ax = plt.subplots()\n",
    "plt.plot(power_curve_df['wind speed'].values, power_curve_df['Power'].values, color='blue')\n",
    "plt.plot(power_curve_df['wind speed'].values, power_interp(power_curve_df['wind speed'].values), color='red', linestyle='--')\n"
   ]
  },
  {
   "cell_type": "code",
   "execution_count": 8,
   "metadata": {},
   "outputs": [],
   "source": [
    "def get_power(power_interp, wind_speed):\n",
    "    #do interpolation to get power for given wind speed\n",
    "    power = power_interp(wind_speed)\n",
    "    return power\n",
    "\n",
    "def get_thrust(thrust_interp, wind_speed):\n",
    "    #do interpolation to get power for given wind speed\n",
    "    thrust = thrust_interp(wind_speed)\n",
    "    \n",
    "    return thrust"
   ]
  },
  {
   "cell_type": "code",
   "execution_count": 30,
   "metadata": {},
   "outputs": [],
   "source": [
    "def calculate_current_power(grid_orig, free_wind_speed, power_interp, thrust_interp):\n",
    "    \"\"\"\n",
    "    grid: matrix, where each entry is a square object\n",
    "    power_curve:\n",
    "    \"\"\"\n",
    "    \n",
    "    grid = deepcopy(grid_orig)\n",
    "    rotor_diameter = 0.2\n",
    "    k = 0.04\n",
    "    \n",
    "    n_rows = len(grid)  # y direction\n",
    "    n_cols = len(grid[0])  # x direction\n",
    "    \n",
    "    \n",
    "    for turb_y in range(n_rows):\n",
    "        for turb_x in range(n_cols):\n",
    "    \n",
    "            sum_speed_red = 0\n",
    "            \n",
    "            if grid[turb_y][turb_x].has_turbine:    \n",
    "                for y in range(n_rows):\n",
    "                    for x in range(turb_x):\n",
    "                        \n",
    "                        if grid[y][x].has_turbine:\n",
    "                            dx = np.abs(turb_x-x)\n",
    "                            dy = np.abs(turb_y-y)\n",
    "                            dw = rotor_diameter + 2*k*dx\n",
    "                            \n",
    "                            if (dw + rotor_diameter)/ 2 > dy:\n",
    "                                # taking overlap as the ratio of dw/dy\n",
    "                                overlap = 1 if dy == 0 else dw / dy\n",
    "                                                    \n",
    "                                thrust = get_thrust(thrust_interp, grid[y][x].wind_speed)\n",
    "                                delta = overlap * grid[y][x].wind_speed * ( (1-np.sqrt(1-thrust)) / ((1 + 2*k*dx / rotor_diameter)))\n",
    "                                sum_speed_red += np.abs(delta) ** 2\n",
    "            \n",
    "                if sum_speed_red > 0:\n",
    "                    sum_speed_red = np.sqrt(sum_speed_red)                \n",
    "\n",
    "                wind_speed = free_wind_speed - sum_speed_red\n",
    "                grid[turb_y][turb_x].wind_speed = wind_speed\n",
    "                grid[turb_y][turb_x].power = get_power(power_interp, wind_speed)\n",
    "                \n",
    "    \n",
    "    return grid"
   ]
  },
  {
   "cell_type": "code",
   "execution_count": 31,
   "metadata": {},
   "outputs": [],
   "source": [
    "free_wind_speed = 12\n",
    "grid_orig = get_original_grid(free_wind_speed)"
   ]
  },
  {
   "cell_type": "code",
   "execution_count": 32,
   "metadata": {},
   "outputs": [
    {
     "data": {
      "text/plain": [
       "array([[2, 0],\n",
       "       [2, 1],\n",
       "       [2, 2],\n",
       "       [1, 2],\n",
       "       [1, 4],\n",
       "       [0, 4],\n",
       "       [4, 4]])"
      ]
     },
     "execution_count": 32,
     "metadata": {},
     "output_type": "execute_result"
    }
   ],
   "source": [
    "turbines_pos = np.array([[2, 0],\n",
    "                       [2, 1],\n",
    "                       [2, 2],\n",
    "                       [1,2],\n",
    "                       [1,4],\n",
    "                       [0, 4],\n",
    "                       [4, 4]])\n",
    "turbines_pos"
   ]
  },
  {
   "cell_type": "code",
   "execution_count": 33,
   "metadata": {},
   "outputs": [],
   "source": [
    "for pos in turbines_pos:\n",
    "    grid_orig[pos[0]][pos[1]].has_turbine = True\n"
   ]
  },
  {
   "cell_type": "code",
   "execution_count": 34,
   "metadata": {},
   "outputs": [],
   "source": [
    "grid = calculate_current_power(grid_orig, free_wind_speed, power_interp, thrust_interp)"
   ]
  },
  {
   "cell_type": "code",
   "execution_count": 35,
   "metadata": {},
   "outputs": [
    {
     "data": {
      "text/plain": [
       "[[Has turbine: False; can_place: False; cost: 632.4869072732648; wind_speed: 12; power: 0,\n",
       "  Has turbine: False; can_place: True; cost: 587.7648717269985; wind_speed: 12; power: 0,\n",
       "  Has turbine: False; can_place: True; cost: 589.4365649547309; wind_speed: 12; power: 0,\n",
       "  Has turbine: False; can_place: True; cost: 578.5406275568766; wind_speed: 12; power: 0,\n",
       "  Has turbine: True; can_place: True; cost: 617.3081525864936; wind_speed: 12; power: 3450.0],\n",
       " [Has turbine: False; can_place: False; cost: 553.9692260623943; wind_speed: 12; power: 0,\n",
       "  Has turbine: False; can_place: False; cost: 634.8962352843296; wind_speed: 12; power: 0,\n",
       "  Has turbine: True; can_place: True; cost: 584.7758619820979; wind_speed: 12; power: 3450.0,\n",
       "  Has turbine: False; can_place: True; cost: 606.380781921142; wind_speed: 12; power: 0,\n",
       "  Has turbine: True; can_place: True; cost: 595.0125924904518; wind_speed: 10.094285619028566; power: 3432.8884855413985],\n",
       " [Has turbine: True; can_place: True; cost: 629.2421587408994; wind_speed: 12; power: 3450.0,\n",
       "  Has turbine: True; can_place: False; cost: 558.7971858100469; wind_speed: 9.549795795893871; power: 3221.923290693197,\n",
       "  Has turbine: True; can_place: True; cost: 593.5516559197299; wind_speed: 8.174411751361394; power: 2191.421078619393,\n",
       "  Has turbine: False; can_place: False; cost: 592.3189129066317; wind_speed: 12; power: 0,\n",
       "  Has turbine: False; can_place: True; cost: 622.6753888467088; wind_speed: 12; power: 0],\n",
       " [Has turbine: False; can_place: True; cost: 578.0021746537194; wind_speed: 12; power: 0,\n",
       "  Has turbine: False; can_place: False; cost: 596.5514358489913; wind_speed: 12; power: 0,\n",
       "  Has turbine: False; can_place: True; cost: 582.4428316415725; wind_speed: 12; power: 0,\n",
       "  Has turbine: False; can_place: True; cost: 600.8442749343119; wind_speed: 12; power: 0,\n",
       "  Has turbine: False; can_place: True; cost: 611.6563042743164; wind_speed: 12; power: 0],\n",
       " [Has turbine: False; can_place: False; cost: 577.9876164557415; wind_speed: 12; power: 0,\n",
       "  Has turbine: False; can_place: True; cost: 622.8944741967923; wind_speed: 12; power: 0,\n",
       "  Has turbine: False; can_place: True; cost: 618.031814411856; wind_speed: 12; power: 0,\n",
       "  Has turbine: False; can_place: True; cost: 610.0498867780374; wind_speed: 12; power: 0,\n",
       "  Has turbine: True; can_place: True; cost: 618.0171189852882; wind_speed: 12; power: 3450.0]]"
      ]
     },
     "execution_count": 35,
     "metadata": {},
     "output_type": "execute_result"
    }
   ],
   "source": [
    "grid"
   ]
  },
  {
   "cell_type": "code",
   "execution_count": 36,
   "metadata": {},
   "outputs": [],
   "source": [
    "power_grid = get_grid_power(grid)\n",
    "wind_speed_grid = get_grid_wind_speed(grid)\n",
    "cost_grid = get_grid_cost(grid)"
   ]
  },
  {
   "cell_type": "code",
   "execution_count": 37,
   "metadata": {},
   "outputs": [],
   "source": [
    "pos_map = np.zeros([5,5])\n",
    "for pos in turbines_pos:\n",
    "    pos_map[pos[0]][pos[1]] = 1\n"
   ]
  },
  {
   "cell_type": "code",
   "execution_count": 64,
   "metadata": {},
   "outputs": [
    {
     "data": {
      "image/png": "[encoded data removed]",
      "text/plain": [
       "<Figure size 648x504 with 2 Axes>"
      ]
     },
     "metadata": {
      "needs_background": "light"
     },
     "output_type": "display_data"
    }
   ],
   "source": [
    "fig, ax = plt.subplots(1, figsize=(9,7))\n",
    "sns.heatmap(data=pos_map,  cmap=\"YlGnBu\", ax=ax);\n",
    "plt.title('Wind turbine positions', size=20);"
   ]
  },
  {
   "cell_type": "code",
   "execution_count": 63,
   "metadata": {},
   "outputs": [
    {
     "data": {
      "image/png": "[encoded data removed]",
      "text/plain": [
       "<Figure size 648x504 with 2 Axes>"
      ]
     },
     "metadata": {
      "needs_background": "light"
     },
     "output_type": "display_data"
    }
   ],
   "source": [
    "fig, ax = plt.subplots(1, figsize=(9,7))\n",
    "sns.heatmap(data=wind_speed_grid,  cmap=\"YlGnBu\", ax=ax);\n",
    "plt.title('Wind speed at each turbine', size=20);"
   ]
  },
  {
   "cell_type": "code",
   "execution_count": 66,
   "metadata": {},
   "outputs": [
    {
     "data": {
      "image/png": "[encoded data removed]",
      "text/plain": [
       "<Figure size 648x504 with 2 Axes>"
      ]
     },
     "metadata": {
      "needs_background": "light"
     },
     "output_type": "display_data"
    }
   ],
   "source": [
    "fig, ax = plt.subplots(1, figsize=(9,7))\n",
    "sns.heatmap(data=power_grid,  cmap=\"YlGnBu\", vmin=0, vmax=3500, ax=ax);\n",
    "plt.title('Power generated by each wind turbine', size=20);"
   ]
  },
  {
   "cell_type": "code",
   "execution_count": 41,
   "metadata": {},
   "outputs": [
    {
     "data": {
      "text/plain": [
       "22646.232854853988"
      ]
     },
     "execution_count": 41,
     "metadata": {},
     "output_type": "execute_result"
    }
   ],
   "source": [
    "np.sum(power_grid)"
   ]
  },
  {
   "cell_type": "code",
   "execution_count": null,
   "metadata": {},
   "outputs": [],
   "source": []
  },
  {
   "cell_type": "code",
   "execution_count": null,
   "metadata": {},
   "outputs": [],
   "source": []
  }
 ],
 "metadata": {
  "kernelspec": {
   "display_name": "Python 3",
   "language": "python",
   "name": "python3"
  },
  "language_info": {
   "codemirror_mode": {
    "name": "ipython",
    "version": 3
   },
   "file_extension": ".py",
   "mimetype": "text/x-python",
   "name": "python",
   "nbconvert_exporter": "python",
   "pygments_lexer": "ipython3",
   "version": "3.7.0"
  }
 },
 "nbformat": 4,
 "nbformat_minor": 4
}
